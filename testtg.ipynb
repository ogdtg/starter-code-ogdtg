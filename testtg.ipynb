{
  "nbformat": 4,
  "nbformat_minor": 0,
  "metadata": {
    "colab": {
      "provenance": [],
      "authorship_tag": "ABX9TyPTo6L1KdWju2CjOOoRJKWR",
      "include_colab_link": true
    },
    "kernelspec": {
      "name": "ir",
      "display_name": "R"
    },
    "language_info": {
      "name": "R"
    }
  },
  "cells": [
    {
      "cell_type": "markdown",
      "metadata": {
        "id": "view-in-github",
        "colab_type": "text"
      },
      "source": [
        "<a href=\"https://colab.research.google.com/github/ogdtg/starter-code-ogdtg/blob/main/testtg.ipynb\" target=\"_parent\"><img src=\"https://colab.research.google.com/assets/colab-badge.svg\" alt=\"Open In Colab\"/></a>"
      ]
    },
    {
      "cell_type": "code",
      "execution_count": 3,
      "metadata": {
        "colab": {
          "base_uri": "https://localhost:8080/",
          "height": 147
        },
        "id": "3KJhb60cX3y_",
        "outputId": "aa9d2d64-b921-42d6-a065-3e98f73b7820"
      },
      "outputs": [
        {
          "output_type": "display_data",
          "data": {
            "text/html": [
              "<table class=\"dataframe\">\n",
              "<caption>A data.frame: 1 × 2</caption>\n",
              "<thead>\n",
              "\t<tr><th scope=col>a</th><th scope=col>b</th></tr>\n",
              "\t<tr><th scope=col>&lt;chr&gt;</th><th scope=col>&lt;chr&gt;</th></tr>\n",
              "</thead>\n",
              "<tbody>\n",
              "\t<tr><td>a</td><td>a</td></tr>\n",
              "</tbody>\n",
              "</table>\n"
            ],
            "text/markdown": "\nA data.frame: 1 × 2\n\n| a &lt;chr&gt; | b &lt;chr&gt; |\n|---|---|\n| a | a |\n\n",
            "text/latex": "A data.frame: 1 × 2\n\\begin{tabular}{ll}\n a & b\\\\\n <chr> & <chr>\\\\\n\\hline\n\t a & a\\\\\n\\end{tabular}\n",
            "text/plain": [
              "  a b\n",
              "1 a a"
            ]
          },
          "metadata": {}
        }
      ],
      "source": [
        "data.frame(a = c(\"a\"),b = c(\"a\"))"
      ]
    },
    {
      "cell_type": "code",
      "source": [
        "\n"
      ],
      "metadata": {
        "colab": {
          "base_uri": "https://localhost:8080/",
          "height": 130
        },
        "id": "ogxMr196R-dY",
        "outputId": "dbfd796a-ca5f-4ca0-8957-dd9c1269c4a9"
      },
      "execution_count": 11,
      "outputs": [
        {
          "output_type": "error",
          "ename": "ERROR",
          "evalue": "ignored",
          "traceback": [
            "Error in library(XML): there is no package called ‘XML’\nTraceback:\n",
            "1. library(XML)"
          ]
        }
      ]
    },
    {
      "cell_type": "code",
      "source": [
        "test <- available.packages()\n",
        "test[,1]"
      ],
      "metadata": {
        "colab": {
          "base_uri": "https://localhost:8080/",
          "height": 816
        },
        "id": "i71toOqfUv5k",
        "outputId": "fc1c451d-4724-4257-87e6-0ae71e8fdf63"
      },
      "execution_count": 9,

          },
          "metadata": {}
        }
      ]
    },
    {
      "cell_type": "markdown",
      "source": [
        "Das ist Text"
      ],
      "metadata": {
        "id": "trpZn_ByTG50"
      }
    }
  ]
}
